{
 "cells": [
  {
   "cell_type": "code",
   "execution_count": 1,
   "metadata": {},
   "outputs": [],
   "source": [
    "from ipywebrtc import CameraStream, ImageRecorder\n",
    "import ipywidgets as widgets\n",
    "from ipywidgets import VBox, HBox\n",
    "\n",
    "import PIL.Image\n",
    "import io\n",
    "\n",
    "from fastai2.vision.all import *"
   ]
  },
  {
   "cell_type": "code",
   "execution_count": 15,
   "metadata": {},
   "outputs": [],
   "source": [
    "#setup learner\n",
    "inf = load_learner('/storage/lr_hard_center_resnet34_512_6epochs.pkl')"
   ]
  },
  {
   "cell_type": "code",
   "execution_count": 12,
   "metadata": {},
   "outputs": [],
   "source": [
    "# setup gui elements\n",
    "\n",
    "camera = CameraStream(constraints=\n",
    "                      {'facing_mode': 'user',\n",
    "                       'audio': False,\n",
    "                       'video': { 'width': 640, 'height': 480 }\n",
    "                       })\n",
    "\n",
    "image_recorder = ImageRecorder(format='png', stream=camera)\n",
    "image_recorder.recording=True\n",
    "\n",
    "btn_classify = widgets.Button(description=\"Click Me!\")\n",
    "lbl_result = widgets.Output()\n",
    "\n",
    "# callbacks\n",
    "def classify(btn):\n",
    "    global image_recorder\n",
    "    \n",
    "    im = PILImage.create(io.BytesIO(image_recorder.image.value))\n",
    "    #im = PILImage.frombytes(image_recorder.image.value)\n",
    "    prediction = inf.predict(im)\n",
    "    lbl,_,_ = prediction\n",
    "    \n",
    "    if not lbl: msg = 'Unknown Direction'\n",
    "    else:\n",
    "        if 'Center' in lbl:\n",
    "            msg = 'Center'\n",
    "        elif 'Left' in lbl:\n",
    "            msg = 'Right'\n",
    "        elif 'Right' in lbl:\n",
    "            msg = 'Left'\n",
    "    \n",
    "    lbl_result.clear_output()\n",
    "    \n",
    "    with lbl_result:\n",
    "        print(prediction)\n",
    "\n",
    "        \n",
    "btn_classify.on_click(classify)"
   ]
  },
  {
   "cell_type": "code",
   "execution_count": 13,
   "metadata": {},
   "outputs": [
    {
     "data": {
      "application/vnd.jupyter.widget-view+json": {
       "model_id": "7e0d5697a799425fa1436a7d4a0f067b",
       "version_major": 2,
       "version_minor": 0
      },
      "text/plain": [
       "HBox(children=(CameraStream(constraints={'facing_mode': 'user', 'audio': False, 'video': {'width': 640, 'heigh…"
      ]
     },
     "metadata": {},
     "output_type": "display_data"
    },
    {
     "data": {
      "text/html": [],
      "text/plain": [
       "<IPython.core.display.HTML object>"
      ]
     },
     "metadata": {},
     "output_type": "display_data"
    }
   ],
   "source": [
    "HBox([camera, VBox([image_recorder, HBox([btn_classify, lbl_result])])])"
   ]
  },
  {
   "cell_type": "code",
   "execution_count": null,
   "metadata": {},
   "outputs": [],
   "source": []
  }
 ],
 "metadata": {
  "kernelspec": {
   "display_name": "Python 3",
   "language": "python",
   "name": "python3"
  },
  "language_info": {
   "codemirror_mode": {
    "name": "ipython",
    "version": 3
   },
   "file_extension": ".py",
   "mimetype": "text/x-python",
   "name": "python",
   "nbconvert_exporter": "python",
   "pygments_lexer": "ipython3",
   "version": "3.7.6"
  }
 },
 "nbformat": 4,
 "nbformat_minor": 4
}
