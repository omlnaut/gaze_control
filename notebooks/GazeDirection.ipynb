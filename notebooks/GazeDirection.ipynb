{
 "cells": [
  {
   "cell_type": "code",
   "execution_count": 15,
   "metadata": {},
   "outputs": [],
   "source": [
    "from ipywebrtc import CameraStream, ImageRecorder\n",
    "import ipywidgets as widgets\n",
    "from ipywidgets import VBox, HBox\n",
    "\n",
    "import PIL.Image\n",
    "import io"
   ]
  },
  {
   "cell_type": "code",
   "execution_count": 23,
   "metadata": {},
   "outputs": [],
   "source": [
    "# setup gui elements\n",
    "\n",
    "camera = CameraStream(constraints=\n",
    "                      {'facing_mode': 'user',\n",
    "                       'audio': False,\n",
    "                       'video': { 'width': 640, 'height': 480 }\n",
    "                       })\n",
    "\n",
    "image_recorder = ImageRecorder(format='png', stream=camera)\n",
    "image_recorder.recording=True\n",
    "\n",
    "btn_classify = widgets.Button(description=\"Click Me!\")\n",
    "lbl_result = widgets.Output()\n",
    "\n",
    "# callbacks\n",
    "def classify(btn):\n",
    "    global image_recorder\n",
    "    \n",
    "    im = PIL.Image.open(io.BytesIO(image_recorder.image.value))\n",
    "    \n",
    "    with lbl_result:\n",
    "        print('Loaded image')\n",
    "        \n",
    "btn_classify.on_click(classify)"
   ]
  },
  {
   "cell_type": "code",
   "execution_count": 24,
   "metadata": {},
   "outputs": [
    {
     "data": {
      "application/vnd.jupyter.widget-view+json": {
       "model_id": "f19964837c2a45a0bc7eec0ae684da23",
       "version_major": 2,
       "version_minor": 0
      },
      "text/plain": [
       "HBox(children=(CameraStream(constraints={'facing_mode': 'user', 'audio': False, 'video': {'width': 640, 'heigh…"
      ]
     },
     "metadata": {},
     "output_type": "display_data"
    }
   ],
   "source": [
    "HBox([camera, VBox([image_recorder, HBox([btn_classify, lbl_result])])])"
   ]
  },
  {
   "cell_type": "code",
   "execution_count": null,
   "metadata": {},
   "outputs": [],
   "source": []
  }
 ],
 "metadata": {
  "kernelspec": {
   "display_name": "Python 3",
   "language": "python",
   "name": "python3"
  },
  "language_info": {
   "codemirror_mode": {
    "name": "ipython",
    "version": 3
   },
   "file_extension": ".py",
   "mimetype": "text/x-python",
   "name": "python",
   "nbconvert_exporter": "python",
   "pygments_lexer": "ipython3",
   "version": "3.7.6"
  }
 },
 "nbformat": 4,
 "nbformat_minor": 4
}
