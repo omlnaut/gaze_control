{
 "cells": [
  {
   "cell_type": "code",
   "execution_count": 2,
   "metadata": {},
   "outputs": [],
   "source": [
    "from pathlib import Path\n",
    "import pandas as pd"
   ]
  },
  {
   "cell_type": "markdown",
   "metadata": {},
   "source": [
    "# General setup"
   ]
  },
  {
   "cell_type": "code",
   "execution_count": 3,
   "metadata": {},
   "outputs": [],
   "source": [
    "storage_path = Path('/storage')\n",
    "data_path = storage_path/'Columbia Gaze Data Set'\n",
    "\n",
    "def parse_filepath(filepath):\n",
    "    filename = filepath.stem\n",
    "    \n",
    "    _,_,pos_str,v_str,h_str = filename.split('_')\n",
    "    pos = int(pos_str[:-1])\n",
    "    v = int(v_str[:-1])\n",
    "    h = int(h_str[:-1])\n",
    "\n",
    "    return pos, v, h"
   ]
  },
  {
   "cell_type": "markdown",
   "metadata": {},
   "source": [
    "- v: -10, 0, 10\n",
    "- h: -15, -10, -5, 0, 5, 10, 15"
   ]
  },
  {
   "cell_type": "code",
   "execution_count": 4,
   "metadata": {},
   "outputs": [
    {
     "data": {
      "text/plain": [
       "56"
      ]
     },
     "execution_count": 4,
     "metadata": {},
     "output_type": "execute_result"
    }
   ],
   "source": [
    "folders = [element for element in data_path.glob('*') if element.is_dir()]\n",
    "len(folders)"
   ]
  },
  {
   "cell_type": "code",
   "execution_count": 5,
   "metadata": {},
   "outputs": [],
   "source": [
    "# use n_valid folders for validation set\n",
    "n_valid = 10"
   ]
  },
  {
   "cell_type": "code",
   "execution_count": 6,
   "metadata": {},
   "outputs": [
    {
     "name": "stdout",
     "output_type": "stream",
     "text": [
      "Training on 46 folders.\n",
      "Validation on 10 folders.\n"
     ]
    }
   ],
   "source": [
    "train_folders = folders[:-n_valid]\n",
    "validation_folders = folders[-n_valid:]\n",
    "print(f'Training on {len(train_folders)} folders.')\n",
    "print(f'Validation on {len(validation_folders)} folders.')"
   ]
  },
  {
   "cell_type": "markdown",
   "metadata": {},
   "source": [
    "## Labels from parsed filenames"
   ]
  },
  {
   "cell_type": "code",
   "execution_count": 7,
   "metadata": {},
   "outputs": [],
   "source": [
    "def label_from_position(vertical, horizontal, join_char=' '):\n",
    "    label = []\n",
    "    \n",
    "    if vertical==-10: label.append('Bottom')\n",
    "    if vertical==10: label.append('Top')\n",
    "    if vertical==0: label.append('VCenter')\n",
    "    \n",
    "    if horizontal in [-15, -10]: label.append('Left')\n",
    "    if horizontal in [15, 10]: label.append('Right')\n",
    "    if horizontal in [-5, 0, 5]: label.append('HCenter')\n",
    "        \n",
    "    return join_char.join(label)"
   ]
  },
  {
   "cell_type": "code",
   "execution_count": 13,
   "metadata": {},
   "outputs": [
    {
     "data": {
      "text/plain": [
       "((0, 10, 10), 'Top Right')"
      ]
     },
     "execution_count": 13,
     "metadata": {},
     "output_type": "execute_result"
    }
   ],
   "source": [
    "parsed = parse_filepath(list(train_folders[0].glob('*.jpg'))[0])\n",
    "parsed, label_from_position(*parsed[1:])"
   ]
  },
  {
   "cell_type": "code",
   "execution_count": 9,
   "metadata": {},
   "outputs": [],
   "source": [
    "def create_label_df(train_folders, validation_folders, lbl_func):\n",
    "    content = []\n",
    "    for train_folder in train_folders:\n",
    "        for file in train_folder.glob('*.jpg'):\n",
    "            _, v, h = parse_filepath(file)\n",
    "            label = lbl_func(v, h)\n",
    "            content.append([file, label, False])\n",
    "            \n",
    "    for validation_folder in validation_folders:\n",
    "        for file in validation_folder.glob('*.jpg'):\n",
    "            _, v, h = parse_filepath(file)\n",
    "            label = lbl_func(v, h)\n",
    "            content.append([file, label, True])\n",
    "            \n",
    "    df = pd.DataFrame(content, columns=['path', 'target', 'is_valid'])\n",
    "    return df"
   ]
  },
  {
   "cell_type": "code",
   "execution_count": 10,
   "metadata": {},
   "outputs": [
    {
     "data": {
      "text/html": [
       "<div>\n",
       "<style scoped>\n",
       "    .dataframe tbody tr th:only-of-type {\n",
       "        vertical-align: middle;\n",
       "    }\n",
       "\n",
       "    .dataframe tbody tr th {\n",
       "        vertical-align: top;\n",
       "    }\n",
       "\n",
       "    .dataframe thead th {\n",
       "        text-align: right;\n",
       "    }\n",
       "</style>\n",
       "<table border=\"1\" class=\"dataframe\">\n",
       "  <thead>\n",
       "    <tr style=\"text-align: right;\">\n",
       "      <th></th>\n",
       "      <th>path</th>\n",
       "      <th>target</th>\n",
       "      <th>is_valid</th>\n",
       "    </tr>\n",
       "  </thead>\n",
       "  <tbody>\n",
       "    <tr>\n",
       "      <th>0</th>\n",
       "      <td>/storage/Columbia Gaze Data Set/0016/0016_2m_0...</td>\n",
       "      <td>Top Right</td>\n",
       "      <td>False</td>\n",
       "    </tr>\n",
       "    <tr>\n",
       "      <th>1</th>\n",
       "      <td>/storage/Columbia Gaze Data Set/0016/0016_2m_1...</td>\n",
       "      <td>Top Left</td>\n",
       "      <td>False</td>\n",
       "    </tr>\n",
       "    <tr>\n",
       "      <th>2</th>\n",
       "      <td>/storage/Columbia Gaze Data Set/0016/0016_2m_-...</td>\n",
       "      <td>Bottom HCenter</td>\n",
       "      <td>False</td>\n",
       "    </tr>\n",
       "    <tr>\n",
       "      <th>3</th>\n",
       "      <td>/storage/Columbia Gaze Data Set/0016/0016_2m_-...</td>\n",
       "      <td>Top Left</td>\n",
       "      <td>False</td>\n",
       "    </tr>\n",
       "    <tr>\n",
       "      <th>4</th>\n",
       "      <td>/storage/Columbia Gaze Data Set/0016/0016_2m_1...</td>\n",
       "      <td>VCenter Right</td>\n",
       "      <td>False</td>\n",
       "    </tr>\n",
       "  </tbody>\n",
       "</table>\n",
       "</div>"
      ],
      "text/plain": [
       "                                                path          target  is_valid\n",
       "0  /storage/Columbia Gaze Data Set/0016/0016_2m_0...       Top Right     False\n",
       "1  /storage/Columbia Gaze Data Set/0016/0016_2m_1...        Top Left     False\n",
       "2  /storage/Columbia Gaze Data Set/0016/0016_2m_-...  Bottom HCenter     False\n",
       "3  /storage/Columbia Gaze Data Set/0016/0016_2m_-...        Top Left     False\n",
       "4  /storage/Columbia Gaze Data Set/0016/0016_2m_1...   VCenter Right     False"
      ]
     },
     "execution_count": 10,
     "metadata": {},
     "output_type": "execute_result"
    }
   ],
   "source": [
    "df = create_label_df(train_folders, validation_folders, label_from_position)\n",
    "df.head()"
   ]
  },
  {
   "cell_type": "code",
   "execution_count": 21,
   "metadata": {},
   "outputs": [
    {
     "data": {
      "text/plain": [
       "False    4830\n",
       "True     1050\n",
       "Name: is_valid, dtype: int64"
      ]
     },
     "execution_count": 21,
     "metadata": {},
     "output_type": "execute_result"
    }
   ],
   "source": [
    "df.is_valid.value_counts()"
   ]
  },
  {
   "cell_type": "code",
   "execution_count": 24,
   "metadata": {},
   "outputs": [],
   "source": [
    "df.to_csv(storage_path/'directions_with_center.csv', index=False)"
   ]
  },
  {
   "cell_type": "markdown",
   "metadata": {},
   "source": [
    "# Easier dataset: left/right/center"
   ]
  },
  {
   "cell_type": "code",
   "execution_count": 1,
   "metadata": {},
   "outputs": [],
   "source": [
    "def lr_from_position(vertical, horizontal, join_char=' '):\n",
    "    label = []\n",
    "    \n",
    "    if horizontal in [-15, -10]: label.append('Left')\n",
    "    if horizontal in [15, 10]: label.append('Right')\n",
    "    if horizontal in [-5, 0, 5]: label.append('HCenter')\n",
    "        \n",
    "    return join_char.join(label)"
   ]
  },
  {
   "cell_type": "code",
   "execution_count": 11,
   "metadata": {},
   "outputs": [
    {
     "data": {
      "text/html": [
       "<div>\n",
       "<style scoped>\n",
       "    .dataframe tbody tr th:only-of-type {\n",
       "        vertical-align: middle;\n",
       "    }\n",
       "\n",
       "    .dataframe tbody tr th {\n",
       "        vertical-align: top;\n",
       "    }\n",
       "\n",
       "    .dataframe thead th {\n",
       "        text-align: right;\n",
       "    }\n",
       "</style>\n",
       "<table border=\"1\" class=\"dataframe\">\n",
       "  <thead>\n",
       "    <tr style=\"text-align: right;\">\n",
       "      <th></th>\n",
       "      <th>path</th>\n",
       "      <th>target</th>\n",
       "      <th>is_valid</th>\n",
       "    </tr>\n",
       "  </thead>\n",
       "  <tbody>\n",
       "    <tr>\n",
       "      <th>0</th>\n",
       "      <td>/storage/Columbia Gaze Data Set/0016/0016_2m_0...</td>\n",
       "      <td>Right</td>\n",
       "      <td>False</td>\n",
       "    </tr>\n",
       "    <tr>\n",
       "      <th>1</th>\n",
       "      <td>/storage/Columbia Gaze Data Set/0016/0016_2m_1...</td>\n",
       "      <td>Left</td>\n",
       "      <td>False</td>\n",
       "    </tr>\n",
       "    <tr>\n",
       "      <th>2</th>\n",
       "      <td>/storage/Columbia Gaze Data Set/0016/0016_2m_-...</td>\n",
       "      <td>HCenter</td>\n",
       "      <td>False</td>\n",
       "    </tr>\n",
       "    <tr>\n",
       "      <th>3</th>\n",
       "      <td>/storage/Columbia Gaze Data Set/0016/0016_2m_-...</td>\n",
       "      <td>Left</td>\n",
       "      <td>False</td>\n",
       "    </tr>\n",
       "    <tr>\n",
       "      <th>4</th>\n",
       "      <td>/storage/Columbia Gaze Data Set/0016/0016_2m_1...</td>\n",
       "      <td>Right</td>\n",
       "      <td>False</td>\n",
       "    </tr>\n",
       "  </tbody>\n",
       "</table>\n",
       "</div>"
      ],
      "text/plain": [
       "                                                path   target  is_valid\n",
       "0  /storage/Columbia Gaze Data Set/0016/0016_2m_0...    Right     False\n",
       "1  /storage/Columbia Gaze Data Set/0016/0016_2m_1...     Left     False\n",
       "2  /storage/Columbia Gaze Data Set/0016/0016_2m_-...  HCenter     False\n",
       "3  /storage/Columbia Gaze Data Set/0016/0016_2m_-...     Left     False\n",
       "4  /storage/Columbia Gaze Data Set/0016/0016_2m_1...    Right     False"
      ]
     },
     "execution_count": 11,
     "metadata": {},
     "output_type": "execute_result"
    }
   ],
   "source": [
    "df = create_label_df(train_folders, validation_folders, lr_from_position)\n",
    "df.head()"
   ]
  },
  {
   "cell_type": "code",
   "execution_count": 12,
   "metadata": {},
   "outputs": [],
   "source": [
    "df.to_csv(storage_path/'lr_with_center.csv', index=False)"
   ]
  },
  {
   "cell_type": "code",
   "execution_count": null,
   "metadata": {},
   "outputs": [],
   "source": []
  }
 ],
 "metadata": {
  "kernelspec": {
   "display_name": "Python 3",
   "language": "python",
   "name": "python3"
  },
  "language_info": {
   "codemirror_mode": {
    "name": "ipython",
    "version": 3
   },
   "file_extension": ".py",
   "mimetype": "text/x-python",
   "name": "python",
   "nbconvert_exporter": "python",
   "pygments_lexer": "ipython3",
   "version": "3.7.6"
  }
 },
 "nbformat": 4,
 "nbformat_minor": 4
}
